{
  "nbformat": 4,
  "nbformat_minor": 0,
  "metadata": {
    "colab": {
      "provenance": []
    },
    "kernelspec": {
      "name": "python3",
      "display_name": "Python 3"
    },
    "language_info": {
      "name": "python"
    }
  },
  "cells": [
    {
      "cell_type": "markdown",
      "source": [
        "SPELL CHECHER USING LEVENSHTEIN (EDIT) DISTANCE\n",
        "\n",
        "Name: Ranjini Krishnamoorthy\n",
        "\n",
        "Student ID: 23092951\n",
        "\n",
        "Github link: [https://github.com/Ranjinik-20/Edit-Distance-for-Text-Similarity](https://)"
      ],
      "metadata": {
        "id": "BHo7C1RppuxG"
      }
    },
    {
      "cell_type": "markdown",
      "source": [
        "Functions:\n",
        "1. load_dictionary(file_path) - Loads words from a text file into a list.\n",
        "2.This function determines edit distance through dynamic programming computation.\n",
        "3.The function suggest_corrections(word, dictionary, max_suggestions) offers words from the dictionary according to edit distance.\n",
        "4.The main function operates the program by collecting user input and showing proposed terms.\n"
      ],
      "metadata": {
        "id": "LH4CmdtiqGJm"
      }
    },
    {
      "cell_type": "code",
      "source": [
        "\n",
        "def load_dictionary(file_path):\n",
        "    \"\"\"\n",
        "    Reads a dictionary file and returns a list of words.\n",
        "    :param file_path: Path to the dictionary file.\n",
        "    :return: List of words from the file.\n",
        "    \"\"\"\n",
        "    with open(file_path, 'r') as file:\n",
        "        return [line.strip() for line in file]\n",
        "\n",
        "def calculate_edit_distance(string1, string2):\n",
        "    \"\"\"\n",
        "    Calculates the Levenshtein distance between two strings using dynamic programming.\n",
        "    :param string1: First word.\n",
        "    :param string2: Second word.\n",
        "    :return: Edit distance between the two words.\n",
        "    \"\"\"\n",
        "    length1, length2 = len(string1), len(string2)\n",
        "\n",
        "    # Ensure that string1 is the shorter string for memory efficiency\n",
        "    if length1 > length2:\n",
        "        string1, string2 = string2, string1\n",
        "        length1, length2 = length2, length1\n",
        "\n",
        "    # Initializing the first row representing transformations from empty string\n",
        "    current_row = list(range(length1 + 1))\n",
        "\n",
        "    for row_index in range(1, length2 + 1):\n",
        "        previous_row, current_row = current_row, [row_index] + [0] * length1\n",
        "\n",
        "        for col_index in range(1, length1 + 1):\n",
        "            insert_cost = previous_row[col_index] + 1\n",
        "            delete_cost = current_row[col_index - 1] + 1\n",
        "            replace_cost = previous_row[col_index - 1]\n",
        "\n",
        "            if string1[col_index - 1] != string2[row_index - 1]:\n",
        "                replace_cost += 1\n",
        "\n",
        "            current_row[col_index] = min(insert_cost, delete_cost, replace_cost)\n",
        "\n",
        "    return current_row[length1]\n",
        "\n",
        "def suggest_corrections(word, dictionary, max_suggestions=5):\n",
        "    \"\"\"\n",
        "    It suggests the most similar words from the dictionary using edit distance.\n",
        "    :param word: The input word.\n",
        "    :param dictionary: List of words from the dictionary.\n",
        "    :param max_suggestions: Number of suggestions to return.\n",
        "    :return: List of suggested words with their edit distances.\n",
        "    \"\"\"\n",
        "    suggestions = [(dict_word, calculate_edit_distance(word, dict_word)) for dict_word in dictionary]\n",
        "    suggestions.sort(key=lambda x: x[1])\n",
        "    return suggestions[:max_suggestions]\n",
        "\n",
        "def main():\n",
        "    \"\"\"\n",
        "    Main function to run the spell checker.\n",
        "    \"\"\"\n",
        "    dictionary_path = \"/content/words.txt\"  # Path to the dictionary file\n",
        "    dictionary = load_dictionary(dictionary_path)\n",
        "\n",
        "    word = input(\"Enter your word: \")\n",
        "    suggestions = suggest_corrections(word, dictionary)\n",
        "\n",
        "    print(f\"Top suggestions for '{word}':\")\n",
        "    for suggestion, distance in suggestions:\n",
        "        print(f\"{suggestion} (Distance: {distance})\")\n",
        "\n",
        "if __name__ == \"__main__\":\n",
        "    main()\n"
      ],
      "metadata": {
        "colab": {
          "base_uri": "https://localhost:8080/"
        },
        "id": "yIklpRymK__3",
        "outputId": "45b8d068-fa37-4e80-c265-ccc6629e3667"
      },
      "execution_count": 6,
      "outputs": [
        {
          "output_type": "stream",
          "name": "stdout",
          "text": [
            "Enter your word: happi\n",
            "Top suggestions for 'happi':\n",
            "happy (Distance: 1)\n",
            "happen (Distance: 2)\n",
            "api (Distance: 2)\n",
            "app (Distance: 2)\n",
            "apps (Distance: 2)\n"
          ]
        }
      ]
    },
    {
      "cell_type": "code",
      "source": [],
      "metadata": {
        "id": "cq6Z6RtDK_jf"
      },
      "execution_count": null,
      "outputs": []
    }
  ]
}